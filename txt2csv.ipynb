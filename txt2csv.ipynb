{
 "cells": [
  {
   "cell_type": "code",
   "execution_count": 15,
   "metadata": {},
   "outputs": [],
   "source": [
    "import pandas as pd\n",
    "import nltk\n",
    "import string\n",
    "from nltk.corpus import stopwords\n",
    "base_path='f:/dataset/aclImdb'\n",
    "word_path='f:/word_vec/glove.6B/golve.6B.100d'"
   ]
  },
  {
   "cell_type": "code",
   "execution_count": 19,
   "metadata": {},
   "outputs": [
    {
     "name": "stdout",
     "output_type": "stream",
     "text": [
      "  sentence  polarity\n",
      "0    hello         1\n",
      "1       ok         1\n",
      "2     nice         1\n",
      "3      job         1\n"
     ]
    },
    {
     "name": "stderr",
     "output_type": "stream",
     "text": [
      "[nltk_data] Downloading package stopwords to\n",
      "[nltk_data]     C:\\Users\\dell1\\AppData\\Roaming\\nltk_data...\n",
      "[nltk_data]   Unzipping corpora\\stopwords.zip.\n"
     ]
    },
    {
     "data": {
      "text/plain": [
       "True"
      ]
     },
     "execution_count": 19,
     "metadata": {},
     "output_type": "execute_result"
    }
   ],
   "source": [
    "#首先将txt类型数据读入到dataframe结构然后写到本地csv中\n",
    "import os \n",
    "import re\n",
    "data={'sentence':['hello','ok','nice','job']}\n",
    "data_pd=pd.DataFrame.from_dict(data)\n",
    "data_pd['polarity']=1\n",
    "print(data_pd)\n",
    "nltk.download('stopwords')\n"
   ]
  },
  {
   "cell_type": "code",
   "execution_count": 28,
   "metadata": {},
   "outputs": [],
   "source": [
    "#process the dataset files\n",
    "def load_datasets():\n",
    "    '''\n",
    "    返回一个train数据集类型为pddataframe\n",
    "    一个test数据集类型为pddataframe\n",
    "    '''\n",
    "    train_df=load_dataset(os.path.join(base_path,'train'))\n",
    "    test_df=load_dataset(os.path.join(base_path,'test'))\n",
    "    train_df['sentence']=train_df['sentence'].map(lambda x: clean_text(x))\n",
    "    test_df['sentence']=test_df['sentence'].map(lambda x: clean_text(x))\n",
    "    return train_df,test_df\n",
    "def load_dataset(path):\n",
    "    '''\n",
    "    对于训练集合测试集内部的读写操作都一样，\n",
    "    先读正集在读负集然后混合，最后加上情感向\n",
    "    '''\n",
    "    pos_df=load_directory_data(os.path.join(path,'pos'))\n",
    "    neg_df=load_directory_data(os.path.join(path,'neg'))\n",
    "    pos_df['polarity']=1\n",
    "    neg_df['polarity']=0\n",
    "    return pd.concat([pos_df,neg_df]).sample(frac=1).reset_index(drop=True)#sample表示对样本进行抽样操作，其中，0<frac<=1表示随机抽样的样本数量\n",
    "def load_directory_data(path):\n",
    "    '''\n",
    "    具体的读数据操作，将数据读到字典中然后转换成datafFrame结构，返回转换后的值\n",
    "    '''\n",
    "    datasets={}\n",
    "    datasets['sentence']=[]\n",
    "    for file in os.listdir(path):\n",
    "        with open(os.path.join(path,file),'r',encoding='utf-8') as f:\n",
    "            datasets['sentence'].append(f.read())\n",
    "    return pd.DataFrame.from_dict(datasets)\n",
    "def construct_csv(train_df,test_df):\n",
    "    train_df.to_csv(os.path.join(base_path,'train.csv'),index=False)\n",
    "    test_df.to_csv(os.path.join(base_path,'test.csv'),index=False)\n",
    "train_df,test_df=load_datasets()\n",
    "\n",
    "\n",
    "  \n",
    "    \n",
    "    \n",
    "            "
   ]
  },
  {
   "cell_type": "code",
   "execution_count": 29,
   "metadata": {},
   "outputs": [],
   "source": [
    "from nltk.stem import SnowballStemmer\n",
    "def clean_text(text):\n",
    "    \n",
    "    ## Remove puncuation\n",
    "    text = text.translate(string.punctuation)\n",
    "    \n",
    "    ## Convert words to lower case and split them\n",
    "    text = text.lower().split()\n",
    "    \n",
    "    ## Remove stop words\n",
    "    stops = set(stopwords.words(\"english\"))\n",
    "    text = [w for w in text if not w in stops and len(w) >= 3]\n",
    "    \n",
    "    text = \" \".join(text)\n",
    "\n",
    "    # Clean the text\n",
    "    text=re.sub(r\"<br>\",\" \",text)\n",
    "    test=re.sub(r\"<br\",\" \",text)\n",
    "    text=re.sub(r\"br>\",\" \",text)\n",
    "    text = re.sub(r\"[^A-Za-z0-9^,!.\\/'+-=]\", \" \", text)\n",
    "    text = re.sub(r\"what's\", \"what is \", text)\n",
    "    text = re.sub(r\"\\'s\", \" \", text)\n",
    "    text = re.sub(r\"\\'ve\", \" have \", text)\n",
    "    text = re.sub(r\"n't\", \" not \", text)\n",
    "    text = re.sub(r\"i'm\", \"i am \", text)\n",
    "    text = re.sub(r\"\\'re\", \" are \", text)\n",
    "    text = re.sub(r\"\\'d\", \" would \", text)\n",
    "    text = re.sub(r\"\\'ll\", \" will \", text)\n",
    "    text = re.sub(r\",\", \" \", text)\n",
    "    text = re.sub(r\"\\.\", \" \", text)\n",
    "    text = re.sub(r\"!\", \" ! \", text)\n",
    "    text = re.sub(r\"\\/\", \" \", text)\n",
    "    text = re.sub(r\"\\^\", \" ^ \", text)\n",
    "    text = re.sub(r\"\\+\", \" + \", text)\n",
    "    text = re.sub(r\"\\-\", \" - \", text)\n",
    "    text = re.sub(r\"\\=\", \" = \", text)\n",
    "    text = re.sub(r\"'\", \" \", text)\n",
    "    text = re.sub(r\"(\\d+)(k)\", r\"\\g<1>000\", text)\n",
    "    text = re.sub(r\":\", \" : \", text)\n",
    "    text = re.sub(r\" e g \", \" eg \", text)\n",
    "    text = re.sub(r\" b g \", \" bg \", text)\n",
    "    text = re.sub(r\" u s \", \" american \", text)\n",
    "    text = re.sub(r\"\\0s\", \"0\", text)\n",
    "    text = re.sub(r\" 9 11 \", \"911\", text)\n",
    "    text = re.sub(r\"e - mail\", \"email\", text)\n",
    "    text = re.sub(r\"j k\", \"jk\", text)\n",
    "    text = re.sub(r\"\\s{2,}\", \" \", text)\n",
    "    \n",
    "    \n",
    "    #text = text.split()\n",
    "    #stemmer = SnowballStemmer('english')\n",
    "    #stemmed_words = [stemmer.stem(word) for word in text]\n",
    "    #text = \" \".join(stemmed_words)\n",
    "    return text\n",
    "construct_csv(train_df,test_df)"
   ]
  },
  {
   "cell_type": "code",
   "execution_count": null,
   "metadata": {},
   "outputs": [],
   "source": []
  }
 ],
 "metadata": {
  "kernelspec": {
   "display_name": "Python 3",
   "language": "python",
   "name": "python3"
  },
  "language_info": {
   "codemirror_mode": {
    "name": "ipython",
    "version": 3
   },
   "file_extension": ".py",
   "mimetype": "text/x-python",
   "name": "python",
   "nbconvert_exporter": "python",
   "pygments_lexer": "ipython3",
   "version": "3.7.1"
  }
 },
 "nbformat": 4,
 "nbformat_minor": 2
}
