{
 "cells": [
  {
   "cell_type": "code",
   "execution_count": 1,
   "metadata": {},
   "outputs": [],
   "source": [
    "import torch\n",
    "import torch.nn as nn\n",
    "import numpy as np\n",
    "import torch.optim as optim\n",
    "import torch.nn.functional as F\n"
   ]
  },
  {
   "cell_type": "code",
   "execution_count": 3,
   "metadata": {},
   "outputs": [
    {
     "name": "stdout",
     "output_type": "stream",
     "text": [
      "[[15 11  7]\n",
      " [ 9 13 10]\n",
      " [ 2  6  1]\n",
      " [15  5  7]\n",
      " [ 0 14  4]\n",
      " [12  8  3]]\n"
     ]
    }
   ],
   "source": [
    "#Text-CNN parameter\n",
    "keral_sizes=3\n",
    "num_keral=3\n",
    "stride=1\n",
    "input_length=3\n",
    "embedding_size=3\n",
    "#生成word2id and vocab词典 \n",
    "sentences=['i love you','he loves me','she likes baseball','i hate you','sorry for that','this is awful']\n",
    "labels=[0,0,0,1,1,1]\n",
    "vocab=' '.join(sentences).split()\n",
    "vocab=list(set(vocab))\n",
    "word2id={word:index for index,word in enumerate(vocab)}\n",
    "vocab_size=len(vocab)\n",
    "def construct_tensor(input_x):\n",
    "    x=[]\n",
    "    for sen in input_x:\n",
    "        x.append([word2id[word] for word in sen.split()])#这种语法方式产生的列表迭代对象，是一个列表生成器\n",
    "    x=list(x)\n",
    "    input_numpy=np.asarray(x,dtype=np.int64)#当为索引的时候需要将类型变为int 64位或者在numpy转变为tensor时直接用LongTensor()\n",
    "    print(input_numpy)\n",
    "    input_tensor=torch.from_numpy(input_numpy)\n",
    "    return input_tensor\n",
    "input_tensor=construct_tensor(sentences)\n",
    "label_tensor=torch.tensor(np.asarray(labels,dtype=np.int64))\n",
    "#input_tensor=torch.LongTensor(input_tensor)\n",
    "#print(input_tensor)\n",
    "#print(output_tensor)\n",
    "#二维生成三维的方式利用将二维的tensor嵌入二维的tensor会出现三维tensor\n",
    "\n",
    "#print(w[input_tensor])"
   ]
  },
  {
   "cell_type": "code",
   "execution_count": 4,
   "metadata": {},
   "outputs": [],
   "source": [
    "class TextCNN(nn.Module):\n",
    "    def __init__(self):\n",
    "        super(TextCNN,self).__init__()\n",
    "        self.W=nn.Parameter(torch.empty(vocab_size,embedding_size).uniform_(-1,1))\n",
    "        self.conv=nn.Conv2d(1,3,3,stride=1)\n",
    "        self.relu=nn.ReLU()\n",
    "        self.max_pool=nn.MaxPool2d(1,stride=1)\n",
    "        self.linear=nn.Linear(3,2)\n",
    "        self.softmax=nn.LogSoftmax(1)\n",
    "    def forward(self,x):\n",
    "        embedding=self.W[x]\n",
    "        embedding=embedding.unsqueeze(1)\n",
    "        output=self.conv(embedding)\n",
    "        output=self.relu(output)\n",
    "        output=self.max_pool(output)\n",
    "        #output=torch.cat(output,1)\n",
    "        output=torch.reshape(output,[-1,3])\n",
    "        output=self.linear(output)\n",
    "        output=self.softmax(output)\n",
    "        return output\n",
    "        \n",
    "\n",
    "        \n",
    "            \n",
    "            \n",
    "                \n",
    "      "
   ]
  },
  {
   "cell_type": "code",
   "execution_count": 5,
   "metadata": {},
   "outputs": [
    {
     "name": "stdout",
     "output_type": "stream",
     "text": [
      "TextCNN(\n",
      "  (conv): Conv2d(1, 3, kernel_size=(3, 3), stride=(1, 1))\n",
      "  (relu): ReLU()\n",
      "  (max_pool): MaxPool2d(kernel_size=1, stride=1, padding=0, dilation=1, ceil_mode=False)\n",
      "  (linear): Linear(in_features=3, out_features=2, bias=True)\n",
      "  (softmax): LogSoftmax()\n",
      ")\n"
     ]
    }
   ],
   "source": [
    "#traing定义超参数\n",
    "#iteration=len(labels)/batch_size#遍历一次数据集需要进行的迭代次数\n",
    "epoch=5000#遍历数据集的次数\n",
    "criterion=nn.NLLLoss()\n",
    "model=TextCNN()\n",
    "optimizer=optim.Adam(model.parameters(),lr=0.001)\n",
    "print(model)"
   ]
  },
  {
   "cell_type": "code",
   "execution_count": 6,
   "metadata": {},
   "outputs": [
    {
     "name": "stdout",
     "output_type": "stream",
     "text": [
      "Epoch: 1000 cost= 0.000000\n",
      "Epoch: 2000 cost= 0.000000\n",
      "Epoch: 3000 cost= 0.000000\n",
      "Epoch: 4000 cost= 0.000000\n",
      "Epoch: 5000 cost= 0.000000\n"
     ]
    }
   ],
   "source": [
    "for i in range(epoch):\n",
    "    output=model(input_tensor)\n",
    "    loss=criterion(output,label_tensor)\n",
    "    if (i+1)%1000 ==0:\n",
    "        print('Epoch: %04d'%(i+1),'cost=','{:.6f}'.format(loss))\n",
    "    loss.backward()\n",
    "    optimizer.step()\n",
    "  "
   ]
  },
  {
   "cell_type": "code",
   "execution_count": 14,
   "metadata": {},
   "outputs": [
    {
     "name": "stdout",
     "output_type": "stream",
     "text": [
      "[[0 5 7]]\n",
      "1\n",
      "['sorry hate you'] is Good Mean...\n"
     ]
    }
   ],
   "source": [
    "test_text=['sorry hate you']\n",
    "test_tensor=construct_tensor(test_text)\n",
    "predict=model(test_tensor)\n",
    "#print(predict)\n",
    "predict=predict.max(1,keepdim=True)\n",
    "print(predict[1][0].item())\n",
    "if predict[1][0]==0:\n",
    "    print(test_text,'is Bad Mean...')\n",
    "else:\n",
    "    print(test_text,'is Good Mean...')"
   ]
  },
  {
   "cell_type": "code",
   "execution_count": null,
   "metadata": {},
   "outputs": [],
   "source": [
    "print(list(model.parameters()))"
   ]
  },
  {
   "cell_type": "code",
   "execution_count": null,
   "metadata": {},
   "outputs": [],
   "source": [
    "torch.save(model.state_dict(),'f:\\model\\cnn.pkl')"
   ]
  },
  {
   "cell_type": "code",
   "execution_count": null,
   "metadata": {},
   "outputs": [],
   "source": [
    "print(model.state_dict())"
   ]
  },
  {
   "cell_type": "code",
   "execution_count": null,
   "metadata": {},
   "outputs": [],
   "source": [
    "'''\n",
    "总结：\n",
    "(1)利用二维词向量权重矩阵以及二维数据产生三维的tensor数据集合\n",
    "（2）[内的操作产生的为列表生成器，所以效率高]\n",
    "（3）epoch 进行几次迭代，batch-size 一批的大小，iteration也叫training step，每次迭代一次更新一次网络结构参数。iteration=n/batch-size\n",
    "\n",
    "'''"
   ]
  }
 ],
 "metadata": {
  "kernelspec": {
   "display_name": "Python 3",
   "language": "python",
   "name": "python3"
  },
  "language_info": {
   "codemirror_mode": {
    "name": "ipython",
    "version": 3
   },
   "file_extension": ".py",
   "mimetype": "text/x-python",
   "name": "python",
   "nbconvert_exporter": "python",
   "pygments_lexer": "ipython3",
   "version": "3.7.1"
  }
 },
 "nbformat": 4,
 "nbformat_minor": 2
}
