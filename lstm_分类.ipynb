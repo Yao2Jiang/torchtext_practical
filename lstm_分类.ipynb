{
 "cells": [
  {
   "cell_type": "code",
   "execution_count": 35,
   "metadata": {},
   "outputs": [],
   "source": [
    "vocab=['are','you','ok']\n",
    "dataset='are you ok'\n",
    "word2id={}\n",
    "for index,value in enumerate(vocab):\n",
    "    word2id[value]=index\n",
    "from gensim.models import KeyedVectors\n",
    "import numpy as np\n",
    "import torch.nn as nn\n",
    "import torch\n",
    "glove_path='f:\\word_vec\\glove2word2vec.txt'\n",
    "model=KeyedVectors.load_word2vec_format(glove_path)\n",
    "matrix_len=len(vocab)\n",
    "matrix_weights=np.zeros((matrix_len,50))\n",
    "for index,value in enumerate(vocab):\n",
    "    try:\n",
    "        matrix_weights[index]=model[value]\n",
    "        word2id[value]=index\n",
    "    except KeyError:\n",
    "        matrix_weights[index]=np.random.normal(scale=0.6,size=(50,))\n",
    "\n",
    "\n",
    "\n",
    "\n",
    "    "
   ]
  },
  {
   "cell_type": "code",
   "execution_count": 37,
   "metadata": {},
   "outputs": [
    {
     "name": "stdout",
     "output_type": "stream",
     "text": [
      "[0, 1, 2]\n"
     ]
    }
   ],
   "source": [
    "def encode_sentence(sentence):\n",
    "    sent=[]\n",
    "    for word in sentence.split():\n",
    "        sent.append(word2id[word])\n",
    "    return sent\n",
    "sentence=encode_sentence(dataset)\n",
    "num_sent=np.asarray(sentence)\n",
    "print(sentence)\n",
    "#tensor_sent=torch.from_numpy(num_sent)\n",
    "matrix_weights=torch.from_numpy(matrix_weights)\n",
    "embed=nn.Embedding.from_pretrained(matrix_weights)\n"
   ]
  },
  {
   "cell_type": "code",
   "execution_count": 38,
   "metadata": {},
   "outputs": [
    {
     "name": "stdout",
     "output_type": "stream",
     "text": [
      "tensor([0, 1, 2])\n",
      "tensor([[ 9.6193e-01,  1.2516e-02,  2.1733e-01, -6.5390e-02,  2.6843e-01,\n",
      "          3.3586e-01, -4.5112e-01, -6.0547e-01, -4.6845e-01, -1.8412e-01,\n",
      "          6.0949e-02,  1.9597e-01,  2.2645e-01,  3.2802e-02,  4.2488e-01,\n",
      "          4.9678e-01,  6.5346e-01, -2.7400e-02,  1.7809e-01, -1.1979e+00,\n",
      "         -4.0634e-01, -2.2659e-01,  1.1495e+00,  5.9342e-01, -2.3759e-01,\n",
      "         -9.3254e-01, -5.2502e-01,  5.1250e-02,  3.2248e-02, -7.2774e-01,\n",
      "          4.2466e+00,  6.0592e-01,  3.3397e-01, -8.5754e-01,  4.8950e-01,\n",
      "          2.1744e-01, -1.3451e-01,  9.4912e-03, -5.4173e-01,  1.8857e-01,\n",
      "         -6.4506e-01,  1.2695e-02,  7.3452e-01,  1.0032e+00,  4.1874e-01,\n",
      "          1.6596e-01, -7.1085e-01,  1.4032e-01, -3.8468e-01, -3.8712e-01],\n",
      "        [-1.0919e-03,  3.3324e-01,  3.5743e-01, -5.4041e-01,  8.2032e-01,\n",
      "         -4.9391e-01, -3.2588e-01,  1.9972e-03, -2.3829e-01,  3.5554e-01,\n",
      "         -6.0655e-01,  9.8932e-01, -2.1786e-01,  1.1236e-01,  1.1494e+00,\n",
      "          7.3284e-01,  5.1182e-01,  2.9287e-01,  2.8388e-01, -1.3590e+00,\n",
      "         -3.7951e-01,  5.0943e-01,  7.0710e-01,  6.2941e-01,  1.0534e+00,\n",
      "         -2.1756e+00, -1.3204e+00,  4.0001e-01,  1.5741e+00, -1.6600e+00,\n",
      "          3.7721e+00,  8.6949e-01, -8.0439e-01,  1.8390e-01, -3.4332e-01,\n",
      "          1.0714e-02,  2.3969e-01,  6.6748e-02,  7.0117e-01, -7.3702e-01,\n",
      "          2.0877e-01,  1.1564e-01, -1.5190e-01,  8.5908e-01,  2.2620e-01,\n",
      "          1.6519e-01,  3.6309e-01, -4.5697e-01, -4.8969e-02,  1.1316e+00],\n",
      "        [-5.3646e-01, -7.2432e-02,  2.4182e-01,  9.9021e-02,  1.8426e-01,\n",
      "         -8.6764e-01,  8.1939e-02,  4.0473e-01, -4.0506e-01,  4.7446e-01,\n",
      "         -1.6865e-01,  3.8936e-01, -1.6916e-01,  1.6610e-01,  7.3543e-01,\n",
      "          8.3612e-01,  2.6771e-02,  5.6956e-01,  4.1988e-01, -2.3297e-01,\n",
      "         -5.8841e-01,  5.4950e-01,  7.1645e-01,  2.2451e-01,  1.0043e+00,\n",
      "         -1.5036e+00, -7.8521e-01,  7.3364e-01,  4.1610e-01, -1.6782e+00,\n",
      "          1.9156e+00,  2.6593e-01, -4.1546e-01,  9.7965e-01, -6.0390e-02,\n",
      "         -7.4422e-01,  6.1660e-01, -2.3109e-02,  7.7383e-01, -6.5267e-01,\n",
      "         -2.0022e-01, -2.4790e-01,  4.7040e-02,  3.1407e-01,  3.2598e-01,\n",
      "         -2.4481e-01,  1.6835e-01,  9.7793e-02,  1.2392e-01,  1.1584e+00]],\n",
      "       dtype=torch.float64)\n"
     ]
    }
   ],
   "source": [
    "tensor_sent=torch.LongTensor(num_sent)\n",
    "print(tensor_sent)\n",
    "test=embed(tensor_sent)\n",
    "print(test)"
   ]
  },
  {
   "cell_type": "code",
   "execution_count": 46,
   "metadata": {},
   "outputs": [
    {
     "name": "stdout",
     "output_type": "stream",
     "text": [
      "x1，y:2\n"
     ]
    }
   ],
   "source": [
    "x=1\n",
    "y=2\n",
    "print('x%d，y:%d'%(x,y))"
   ]
  },
  {
   "cell_type": "code",
   "execution_count": null,
   "metadata": {},
   "outputs": [],
   "source": []
  }
 ],
 "metadata": {
  "kernelspec": {
   "display_name": "Python 3",
   "language": "python",
   "name": "python3"
  },
  "language_info": {
   "codemirror_mode": {
    "name": "ipython",
    "version": 3
   },
   "file_extension": ".py",
   "mimetype": "text/x-python",
   "name": "python",
   "nbconvert_exporter": "python",
   "pygments_lexer": "ipython3",
   "version": "3.7.1"
  }
 },
 "nbformat": 4,
 "nbformat_minor": 2
}
